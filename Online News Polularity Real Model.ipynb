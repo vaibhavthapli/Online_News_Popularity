{
 "cells": [
  {
   "cell_type": "code",
   "execution_count": 6,
   "metadata": {},
   "outputs": [
    {
     "name": "stdout",
     "output_type": "stream",
     "text": [
      "ScaledLR: 10824.586082 (4393.181728)\n"
     ]
    }
   ],
   "source": [
    "import numpy as np\n",
    "import pandas as pd\n",
    "import matplotlib.pyplot as plt\n",
    "import seaborn as sns\n",
    "%matplotlib inline\n",
    "\n",
    "from sklearn.linear_model import LinearRegression\n",
    "from sklearn.model_selection import cross_val_score\n",
    "from sklearn.model_selection import KFold\n",
    "from sklearn.metrics import mean_squared_error\n",
    "\n",
    "from sklearn.feature_selection import f_regression\n",
    "from sklearn.feature_selection import SelectKBest\n",
    "\n",
    "from sklearn.model_selection import train_test_split\n",
    "\n",
    "from sklearn.preprocessing import StandardScaler\n",
    "from sklearn.pipeline import Pipeline\n",
    "\n",
    "import warnings\n",
    "warnings.filterwarnings(\"ignore\")\n",
    "\n",
    "#Load the data\n",
    "data = pd.read_csv(\"C:\\\\Users\\\\croma\\\\Dexlab python\\\\Atul_Projects\\\\OnlineNewsPopularity.csv\")\n",
    "\n",
    "#drop Url column\n",
    "data.drop(['url'],axis=1,inplace=True)\n",
    "\n",
    "#Feature Selection.\n",
    "data_new=data.copy()\n",
    "A=data_new.iloc[:,0:59]\n",
    "B=data_new.iloc[:,-1]\n",
    "\n",
    "\n",
    "bestfeature = SelectKBest(score_func=f_regression, k=10)\n",
    "fit = bestfeature.fit(A,B)\n",
    "dfscore= pd.DataFrame(fit.scores_)\n",
    "dfcolumns= pd.DataFrame(A.columns)\n",
    "featurescores = pd.concat([dfcolumns,dfscore],axis=1)\n",
    "featurescores.columns =['features','score']\n",
    "featurescores.nlargest(30,\"score\")\n",
    "\n",
    "#make New dataset\n",
    "df=data_new[[\"kw_avg_avg\",\"LDA_03\",\"kw_max_avg\",\"LDA_02\",\"self_reference_avg_sharess\",\"self_reference_min_shares\",\"data_channel_is_world\",\n",
    "      \"self_reference_max_shares\",\"num_hrefs\",\"kw_avg_max\",\"kw_min_avg\",\"num_imgs\",\"avg_negative_polarity\",\"global_subjectivity\",\n",
    "        \"kw_avg_min\",\"kw_max_min\",\"abs_title_sentiment_polarity\",\"num_videos\",\"average_token_length\",\"title_subjectivity\",\"num_keywords\",\n",
    "        \"max_negative_polarity\",\"min_negative_polarity\",\"data_channel_is_entertainment\",\"is_weekend\",\"LDA_04\",\"weekday_is_saturday\",\n",
    "        \"data_channel_is_tech\",\"rate_positive_words\",\"title_sentiment_polarity\",\"shares\"]]\n",
    "\n",
    "#Train_Test_Split\n",
    "Y=df['shares']\n",
    "X=df.drop(\"shares\",axis=1)\n",
    "X_train,X_test,Y_train,Y_test = train_test_split(X,Y,test_size=0.20,random_state=42)\n",
    "\n",
    "#Making the model with the Linear Regression.\n",
    "pipelines = []\n",
    "names = []\n",
    "pipelines.append(('ScaledLR', Pipeline([('Scaler', StandardScaler()),('LR',\n",
    " LinearRegression())])))\n",
    "for name, model in pipelines:\n",
    "    kfold = KFold(n_splits=10, random_state=7)\n",
    "    cv_results = cross_val_score(model, X_train, Y_train, cv=kfold, scoring=\"neg_mean_squared_error\")\n",
    "    score=np.sqrt(-cv_results)\n",
    "    names.append(name)\n",
    "    msg = \"%s: %f (%f)\" % (name, score.mean(), score.std())\n",
    "    print(msg)"
   ]
  },
  {
   "cell_type": "markdown",
   "metadata": {},
   "source": [
    "tune model"
   ]
  },
  {
   "cell_type": "code",
   "execution_count": 9,
   "metadata": {},
   "outputs": [
    {
     "name": "stdout",
     "output_type": "stream",
     "text": [
      "LinearRegression(copy_X=True, fit_intercept=True, n_jobs=None, normalize=True)\n"
     ]
    }
   ],
   "source": [
    "from sklearn.model_selection import GridSearchCV\n",
    "sc= StandardScaler()\n",
    "X_train = sc.fit_transform(X_train)\n",
    "X_test = sc.transform(X_test)\n",
    "param_grid={'fit_intercept':[True,False], 'normalize':[True,False], 'copy_X':[True, False]}\n",
    "model = LinearRegression()\n",
    "kfold = KFold(n_splits=10, random_state=7)\n",
    "grid = GridSearchCV(estimator=model, param_grid=param_grid, scoring=\"neg_mean_squared_error\", cv=kfold)\n",
    "grid_result = grid.fit(X_train, Y_train)\n",
    "print(grid_result.best_estimator_)"
   ]
  },
  {
   "cell_type": "code",
   "execution_count": 11,
   "metadata": {},
   "outputs": [
    {
     "data": {
      "text/plain": [
       "10836.410654792713"
      ]
     },
     "execution_count": 11,
     "metadata": {},
     "output_type": "execute_result"
    }
   ],
   "source": [
    "go=grid_result.predict(X_test)\n",
    "root=mean_squared_error(Y_test,go)\n",
    "root1=np.sqrt(root)\n",
    "root1"
   ]
  },
  {
   "cell_type": "code",
   "execution_count": 16,
   "metadata": {},
   "outputs": [
    {
     "data": {
      "text/plain": [
       "32340     2900\n",
       "10480     1300\n",
       "15370    17700\n",
       "31592     1500\n",
       "198       1400\n",
       "         ...  \n",
       "31669     2200\n",
       "34677     1400\n",
       "15785      528\n",
       "23738     3200\n",
       "38254     1400\n",
       "Name: shares, Length: 7929, dtype: int64"
      ]
     },
     "execution_count": 16,
     "metadata": {},
     "output_type": "execute_result"
    }
   ],
   "source": [
    "Y_test\n"
   ]
  },
  {
   "cell_type": "code",
   "execution_count": 13,
   "metadata": {},
   "outputs": [
    {
     "data": {
      "text/plain": [
       "['filename.pkl']"
      ]
     },
     "execution_count": 13,
     "metadata": {},
     "output_type": "execute_result"
    }
   ],
   "source": [
    "from joblib import dump, load\n",
    "dump(grid, 'filename.pkl') "
   ]
  },
  {
   "cell_type": "code",
   "execution_count": 18,
   "metadata": {},
   "outputs": [
    {
     "data": {
      "text/plain": [
       "array([2677.22211721, 2965.74033953, 5963.61196052, ..., 2204.77499727,\n",
       "       2648.16655918, 2754.89072964])"
      ]
     },
     "execution_count": 18,
     "metadata": {},
     "output_type": "execute_result"
    }
   ],
   "source": [
    "grid = load('filename.pkl') \n",
    "grid.predict(X_test)"
   ]
  },
  {
   "cell_type": "raw",
   "metadata": {},
   "source": []
  },
  {
   "cell_type": "code",
   "execution_count": null,
   "metadata": {},
   "outputs": [],
   "source": []
  },
  {
   "cell_type": "code",
   "execution_count": null,
   "metadata": {},
   "outputs": [],
   "source": []
  },
  {
   "cell_type": "code",
   "execution_count": null,
   "metadata": {},
   "outputs": [],
   "source": []
  },
  {
   "cell_type": "code",
   "execution_count": null,
   "metadata": {},
   "outputs": [],
   "source": []
  },
  {
   "cell_type": "code",
   "execution_count": null,
   "metadata": {},
   "outputs": [],
   "source": []
  },
  {
   "cell_type": "code",
   "execution_count": null,
   "metadata": {},
   "outputs": [],
   "source": []
  }
 ],
 "metadata": {
  "kernelspec": {
   "display_name": "Python 3",
   "language": "python",
   "name": "python3"
  },
  "language_info": {
   "codemirror_mode": {
    "name": "ipython",
    "version": 3
   },
   "file_extension": ".py",
   "mimetype": "text/x-python",
   "name": "python",
   "nbconvert_exporter": "python",
   "pygments_lexer": "ipython3",
   "version": "3.7.4"
  }
 },
 "nbformat": 4,
 "nbformat_minor": 2
}
